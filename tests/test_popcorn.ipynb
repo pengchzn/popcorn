{
 "cells": [
  {
   "cell_type": "markdown",
   "id": "d25468bb",
   "metadata": {},
   "source": [
    "# install"
   ]
  },
  {
   "cell_type": "code",
   "execution_count": null,
   "id": "27186602",
   "metadata": {},
   "outputs": [],
   "source": [
    "!pip install popcorn"
   ]
  },
  {
   "cell_type": "markdown",
   "id": "2ffd122c",
   "metadata": {},
   "source": [
    "# import libraries and data"
   ]
  },
  {
   "cell_type": "code",
   "execution_count": null,
   "id": "69f28431",
   "metadata": {},
   "outputs": [],
   "source": [
    "import popcorn\n",
    "import pandas as pd\n",
    "from matplotlib import pyplot as plt"
   ]
  },
  {
   "cell_type": "code",
   "execution_count": null,
   "id": "12a21ac8",
   "metadata": {},
   "outputs": [],
   "source": [
    "X = pd.read_csv('./datasets/Xobs.csv')\n",
    "Xsd = pd.read_csv('./datasets/Xsd.csv')\n"
   ]
  },
  {
   "cell_type": "markdown",
   "id": "5800b39a",
   "metadata": {},
   "source": [
    "# Show the distribution of original data"
   ]
  },
  {
   "cell_type": "code",
   "execution_count": null,
   "id": "a35d448e",
   "metadata": {},
   "outputs": [],
   "source": [
    "plt.scatter('V1', 'V2', s=10, data=X)\n",
    "plt.title('Original data')\n",
    "plt.xlim((-0.4, 0.4))\n",
    "plt.ylim((-0.3, 0.3))"
   ]
  },
  {
   "cell_type": "markdown",
   "id": "325c3ef1",
   "metadata": {},
   "source": [
    "# Run the `POPCORN`"
   ]
  },
  {
   "cell_type": "code",
   "execution_count": null,
   "id": "afd5d9de",
   "metadata": {},
   "outputs": [],
   "source": [
    "U, S, V = popcorn(X, Xsd, 2)\n",
    "result = U @ S @ V.T"
   ]
  },
  {
   "cell_type": "markdown",
   "id": "cf6b2ffa",
   "metadata": {},
   "source": [
    "# Normalize the result"
   ]
  },
  {
   "cell_type": "code",
   "execution_count": null,
   "id": "c7276d52",
   "metadata": {},
   "outputs": [],
   "source": [
    "result = pd.DataFrame(result)\n",
    "column = []\n",
    "for i in range(1, 21):\n",
    "    column.append(\"V\" + str(i))\n",
    "result.columns = column"
   ]
  },
  {
   "cell_type": "markdown",
   "id": "813d766d",
   "metadata": {},
   "source": [
    "# Show the distribution of denoised data"
   ]
  },
  {
   "cell_type": "code",
   "execution_count": null,
   "id": "ae762352",
   "metadata": {},
   "outputs": [],
   "source": [
    "plt.scatter('V1', 'V2', s=10, data=result)\n",
    "plt.title('Denoised data')\n",
    "plt.xlim((-0.4, 0.4))\n",
    "plt.ylim((-0.3, 0.3))"
   ]
  },
  {
   "cell_type": "markdown",
   "id": "b1f9697c",
   "metadata": {},
   "source": [
    "# Run the HDBScan on both data"
   ]
  },
  {
   "cell_type": "code",
   "execution_count": null,
   "id": "4be09d1c",
   "metadata": {},
   "outputs": [],
   "source": [
    "clusterer1 = hdbscan.HDBSCAN(min_cluster_size=5, gen_min_span_tree=True)\n",
    "clusterer1.fit(X[['V1','V2']])\n",
    "X['label'] = clusterer1.labels_\n",
    "X['proab'] = clusterer1.probabilities_\n",
    "X.loc[X['proab']<0.5,'label'] = -1\n",
    "plt.xlabel('V1', fontsize=12)\n",
    "plt.ylabel('V2', fontsize=12)\n",
    "plt.title('Classification on nosy data')\n",
    "plt.scatter('V1', 'V2', c=X['label'], s=10, cmap='plasma', data=X)\n",
    "plt.xlim((-0.4, 0.4))\n",
    "plt.ylim((-0.3, 0.3))"
   ]
  },
  {
   "cell_type": "code",
   "execution_count": null,
   "id": "8507acff",
   "metadata": {},
   "outputs": [],
   "source": [
    "clusterer2 = hdbscan.HDBSCAN(min_cluster_size=5, gen_min_span_tree=True)\n",
    "clusterer2.fit(result[['V1','V2']])\n",
    "result['label'] = clusterer2.labels_\n",
    "result['proab'] = clusterer2.probabilities_\n",
    "result.loc[result['proab']<0.5,'label'] = -1\n",
    "plt.xlabel('V1', fontsize=12)\n",
    "plt.ylabel('V2', fontsize=12)\n",
    "plt.title('Classify on denoised data')\n",
    "plt.scatter('V1', 'V2', c=result['label'], s=10, cmap='plasma', data=result)\n",
    "plt.xlim((-0.4, 0.4))\n",
    "plt.ylim((-0.3, 0.3))"
   ]
  }
 ],
 "metadata": {
  "kernelspec": {
   "display_name": "Python 3 (ipykernel)",
   "language": "python",
   "name": "python3"
  },
  "language_info": {
   "codemirror_mode": {
    "name": "ipython",
    "version": 3
   },
   "file_extension": ".py",
   "mimetype": "text/x-python",
   "name": "python",
   "nbconvert_exporter": "python",
   "pygments_lexer": "ipython3",
   "version": "3.10.2"
  }
 },
 "nbformat": 4,
 "nbformat_minor": 5
}
