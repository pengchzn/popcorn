{
 "cells": [
  {
   "cell_type": "markdown",
   "id": "d25468bb",
   "metadata": {},
   "source": [
    "# install"
   ]
  },
  {
   "cell_type": "markdown",
   "id": "709e4f2f",
   "metadata": {},
   "source": [
    "Install mlpca via pip:"
   ]
  },
  {
   "cell_type": "code",
   "execution_count": null,
   "id": "a8c082ce",
   "metadata": {},
   "outputs": [],
   "source": [
    "!pip install mlpca"
   ]
  },
  {
   "cell_type": "markdown",
   "id": "fbe358c2",
   "metadata": {},
   "source": [
    "# import libraries"
   ]
  },
  {
   "cell_type": "code",
   "execution_count": null,
   "id": "0db0b875",
   "metadata": {},
   "outputs": [],
   "source": [
    "import numpy as np\n",
    "from sklearn.datasets import load_iris\n",
    "from sklearn.model_selection import train_test_split\n",
    "from mlpca import MLPCA\n",
    "from sklearn.decomposition import PCA"
   ]
  },
  {
   "cell_type": "code",
   "execution_count": null,
   "id": "95e66008",
   "metadata": {},
   "outputs": [],
   "source": []
  }
 ],
 "metadata": {
  "kernelspec": {
   "display_name": "Python 3 (ipykernel)",
   "language": "python",
   "name": "python3"
  },
  "language_info": {
   "codemirror_mode": {
    "name": "ipython",
    "version": 3
   },
   "file_extension": ".py",
   "mimetype": "text/x-python",
   "name": "python",
   "nbconvert_exporter": "python",
   "pygments_lexer": "ipython3",
   "version": "3.10.1"
  }
 },
 "nbformat": 4,
 "nbformat_minor": 5
}
