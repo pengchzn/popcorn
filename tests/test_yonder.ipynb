{
 "cells": [
  {
   "cell_type": "markdown",
   "id": "d25468bb",
   "metadata": {},
   "source": [
    "# install"
   ]
  },
  {
   "cell_type": "code",
   "execution_count": 6,
   "id": "27186602",
   "metadata": {},
   "outputs": [
    {
     "name": "stdout",
     "output_type": "stream",
     "text": [
      "Requirement already satisfied: yonder in /home/chen/PycharmProjects/yonder (1.0)\r\n",
      "\u001B[33mWARNING: You are using pip version 21.1.2; however, version 22.0.3 is available.\r\n",
      "You should consider upgrading via the '/home/chen/PycharmProjects/popcorn/venv/bin/python -m pip install --upgrade pip' command.\u001B[0m\r\n"
     ]
    }
   ],
   "source": [
    "!pip install yonder"
   ]
  },
  {
   "cell_type": "markdown",
   "id": "2ffd122c",
   "metadata": {},
   "source": [
    "# import libraries and data"
   ]
  },
  {
   "cell_type": "code",
   "execution_count": 12,
   "id": "69f28431",
   "metadata": {},
   "outputs": [],
   "source": [
    "import yonder\n",
    "import pandas as pd\n",
    "import hdbscan\n",
    "from matplotlib import pyplot as plt"
   ]
  },
  {
   "cell_type": "code",
   "execution_count": 13,
   "id": "12a21ac8",
   "metadata": {},
   "outputs": [],
   "source": [
    "X = pd.read_csv('./datasets/Xobs.csv')\n",
    "Xsd = pd.read_csv('./datasets/Xsd.csv')\n",
    "demo = pd.read_csv('./datasets/demo.csv')"
   ]
  },
  {
   "cell_type": "markdown",
   "id": "5800b39a",
   "metadata": {},
   "source": [
    "# Show the distribution of noisy data"
   ]
  },
  {
   "cell_type": "code",
   "execution_count": 14,
   "id": "a35d448e",
   "metadata": {},
   "outputs": [
    {
     "data": {
      "text/plain": "<Figure size 432x288 with 1 Axes>",
      "image/png": "[encoded data removed]"
     },
     "metadata": {
      "needs_background": "light"
     },
     "output_type": "display_data"
    }
   ],
   "source": [
    "plt.scatter('V1', 'V2', s=15, label='Noisy data', data=X)\n",
    "plt.scatter('x01', 'x02', s=10, marker='x', label='True data', data=demo)\n",
    "plt.title('Noisy data')\n",
    "plt.xlabel('V1', fontsize=12)\n",
    "plt.ylabel('V2', fontsize=12)\n",
    "plt.xlim((-0.4, 0.4))\n",
    "plt.ylim((-0.3, 0.3))\n",
    "plt.legend()\n",
    "plt.show()"
   ]
  },
  {
   "cell_type": "markdown",
   "id": "325c3ef1",
   "metadata": {},
   "source": [
    "# Run the `YONDER` and normalize the result"
   ]
  },
  {
   "cell_type": "code",
   "execution_count": 15,
   "id": "afd5d9de",
   "metadata": {},
   "outputs": [
    {
     "ename": "TypeError",
     "evalue": "'module' object is not callable",
     "output_type": "error",
     "traceback": [
      "\u001B[0;31m---------------------------------------------------------------------------\u001B[0m",
      "\u001B[0;31mTypeError\u001B[0m                                 Traceback (most recent call last)",
      "Input \u001B[0;32mIn [15]\u001B[0m, in \u001B[0;36m<module>\u001B[0;34m\u001B[0m\n\u001B[0;32m----> 1\u001B[0m U, S, V \u001B[38;5;241m=\u001B[39m \u001B[43myonder\u001B[49m\u001B[43m(\u001B[49m\u001B[43mX\u001B[49m\u001B[43m,\u001B[49m\u001B[43m \u001B[49m\u001B[43mXsd\u001B[49m\u001B[43m,\u001B[49m\u001B[43m \u001B[49m\u001B[38;5;241;43m2\u001B[39;49m\u001B[43m)\u001B[49m\n\u001B[1;32m      2\u001B[0m result \u001B[38;5;241m=\u001B[39m U \u001B[38;5;241m@\u001B[39m S \u001B[38;5;241m@\u001B[39m V\u001B[38;5;241m.\u001B[39mT\n",
      "\u001B[0;31mTypeError\u001B[0m: 'module' object is not callable"
     ]
    }
   ],
   "source": [
    "U, S, V = yonder(X, Xsd, 2)\n",
    "result = U @ S @ V.T"
   ]
  },
  {
   "cell_type": "code",
   "execution_count": null,
   "id": "c7276d52",
   "metadata": {},
   "outputs": [],
   "source": [
    "result = pd.DataFrame(result)\n",
    "column = []\n",
    "for i in range(1, 21):\n",
    "    column.append(\"V\" + str(i))\n",
    "result.columns = column"
   ]
  },
  {
   "cell_type": "markdown",
   "id": "813d766d",
   "metadata": {},
   "source": [
    "# Show the distribution of denoised data"
   ]
  },
  {
   "cell_type": "code",
   "execution_count": null,
   "outputs": [],
   "source": [
    "plt.scatter('V1', 'V2', s=20, cmap='plasma', label='Denoised data', data=result)\n",
    "plt.scatter('x01', 'x02', s=5, marker='x', label='True data', data=demo)\n",
    "plt.title('Denoised data')\n",
    "plt.xlabel('V1', fontsize=12)\n",
    "plt.ylabel('V2', fontsize=12)\n",
    "plt.xlim((-0.4, 0.4))\n",
    "plt.ylim((-0.3, 0.3))\n",
    "plt.legend()\n",
    "plt.show()"
   ],
   "metadata": {
    "collapsed": false,
    "pycharm": {
     "name": "#%%\n"
    }
   }
  },
  {
   "cell_type": "markdown",
   "id": "b1f9697c",
   "metadata": {},
   "source": [
    "# Run the HDBScan on both noisy and denoised data"
   ]
  },
  {
   "cell_type": "code",
   "execution_count": null,
   "id": "4be09d1c",
   "metadata": {},
   "outputs": [],
   "source": [
    "clusterer = hdbscan.HDBSCAN(min_cluster_size=5, gen_min_span_tree=True)\n",
    "clusterer.fit(X[['V1', 'V2']])\n",
    "X['label'] = clusterer.labels_\n",
    "X['proab'] = clusterer.probabilities_\n",
    "X.loc[X['proab'] < 0.5, 'label'] = -1"
   ]
  },
  {
   "cell_type": "code",
   "execution_count": null,
   "id": "8507acff",
   "metadata": {},
   "outputs": [],
   "source": [
    "clusterer2 = hdbscan.HDBSCAN(min_cluster_size=5, gen_min_span_tree=True)\n",
    "clusterer2.fit(result[['V1', 'V2']])\n",
    "result['label'] = clusterer2.labels_\n",
    "result['proab'] = clusterer2.probabilities_\n",
    "result.loc[result['proab'] < 0.5, 'label'] = -1"
   ]
  },
  {
   "cell_type": "markdown",
   "source": [
    "# Show the results"
   ],
   "metadata": {
    "collapsed": false
   }
  },
  {
   "cell_type": "code",
   "execution_count": null,
   "outputs": [],
   "source": [
    "plt.figure(figsize=(12, 10), dpi=80)\n",
    "plt.figure(1)\n",
    "ax1 = plt.subplot(221)\n",
    "ax1.scatter('x01', 'x02', c='class', s=10, cmap='plasma', data=demo)\n",
    "plt.title('Classification on original data')\n",
    "plt.xlabel('V1', fontsize=12)\n",
    "plt.ylabel('V2', fontsize=12)\n",
    "plt.xlim((-0.4, 0.4))\n",
    "plt.ylim((-0.3, 0.3))\n",
    "\n",
    "\n",
    "ax2 = plt.subplot(222)\n",
    "ax2.scatter('V1', 'V2', c='label', s=10, cmap='plasma', data=X)\n",
    "plt.title('Classification on noisy data')\n",
    "plt.xlabel('V1', fontsize=12)\n",
    "plt.ylabel('V2', fontsize=12)\n",
    "plt.xlim((-0.4, 0.4))\n",
    "plt.ylim((-0.3, 0.3))\n",
    "\n",
    "ax3 = plt.subplot(223)\n",
    "ax3.scatter('V1', 'V2', c=result['label'], s=10, cmap='plasma', data=result)\n",
    "plt.title('Classification on denoised data')\n",
    "plt.xlabel('V1', fontsize=12)\n",
    "plt.ylabel('V2', fontsize=12)\n",
    "plt.xlim((-0.4, 0.4))\n",
    "plt.ylim((-0.3, 0.3))\n",
    "plt.tight_layout()\n",
    "plt.show()"
   ],
   "metadata": {
    "collapsed": false,
    "pycharm": {
     "name": "#%%\n"
    }
   }
  }
 ],
 "metadata": {
  "kernelspec": {
   "display_name": "Python 3 (ipykernel)",
   "language": "python",
   "name": "python3"
  },
  "language_info": {
   "codemirror_mode": {
    "name": "ipython",
    "version": 3
   },
   "file_extension": ".py",
   "mimetype": "text/x-python",
   "name": "python",
   "nbconvert_exporter": "python",
   "pygments_lexer": "ipython3",
   "version": "3.10.2"
  }
 },
 "nbformat": 4,
 "nbformat_minor": 5
}